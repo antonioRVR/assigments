{
 "cells": [
  {
   "cell_type": "code",
   "execution_count": 1,
   "metadata": {},
   "outputs": [
    {
     "name": "stdout",
     "output_type": "stream",
     "text": [
      "Invalid temperature. Ignore the row\n"
     ]
    }
   ],
   "source": [
    "daily_temperature = []\n",
    "\n",
    "with open(\"nyc_weather.csv\") as f:\n",
    "    for line in f:\n",
    "        tokens = line.split(',')\n",
    "        try:\n",
    "            day= tokens[0]\n",
    "            temperature = int(tokens[1])\n",
    "            daily_temperature.append([day, temperature])\n",
    "        except:\n",
    "            print(\"Invalid temperature. Ignore the row\")"
   ]
  },
  {
   "cell_type": "code",
   "execution_count": 2,
   "metadata": {},
   "outputs": [
    {
     "data": {
      "text/plain": [
       "[['Jan 1', 27],\n",
       " ['Jan 2', 31],\n",
       " ['Jan 3', 23],\n",
       " ['Jan 4', 34],\n",
       " ['Jan 5', 37],\n",
       " ['Jan 6', 38],\n",
       " ['Jan 7', 29],\n",
       " ['Jan 8', 30],\n",
       " ['Jan 9', 35],\n",
       " ['Jan 10', 30]]"
      ]
     },
     "execution_count": 2,
     "metadata": {},
     "output_type": "execute_result"
    }
   ],
   "source": [
    "daily_temperature"
   ]
  },
  {
   "cell_type": "code",
   "execution_count": null,
   "metadata": {},
   "outputs": [],
   "source": []
  }
 ],
 "metadata": {
  "kernelspec": {
   "display_name": "base",
   "language": "python",
   "name": "python3"
  },
  "language_info": {
   "codemirror_mode": {
    "name": "ipython",
    "version": 3
   },
   "file_extension": ".py",
   "mimetype": "text/x-python",
   "name": "python",
   "nbconvert_exporter": "python",
   "pygments_lexer": "ipython3",
   "version": "3.12.7"
  }
 },
 "nbformat": 4,
 "nbformat_minor": 2
}
