{
 "cells": [
  {
   "cell_type": "markdown",
   "metadata": {},
   "source": [
    "1. Design a food ordering system where your python program will run two threads,\n",
    "    1. Place Order: This thread will be placing an order and inserting that into a queue. This thread places new order every 0.5 second. (hint: use time.sleep(0.5) function)\n",
    "    1. Serve Order: This thread will server the order. All you need to do is pop the order out of the queue and print it. This thread serves an order every 2 seconds. Also start this thread 1 second after place order thread is started.\n",
    "\n",
    "    Use this video to get yourself familiar with [multithreading in python](https://www.youtube.com/watch?v=PJ4t2U15ACo&list=PLeo1K3hjS3uub3PRhdoCTY8BxMKSW7RjN&index=2&t=0s)\n",
    "\n",
    "    Pass following list as an argument to place order thread,\n",
    "    ```\n",
    "    orders = ['pizza','samosa','pasta','biryani','burger']\n",
    "    ```\n",
    "    This problem is a producer,consumer problem where place_order thread is producing orders whereas server_order thread is consuming the food orders.\n",
    "    Use Queue class implemented in a video tutorial."
   ]
  },
  {
   "cell_type": "code",
   "execution_count": 7,
   "metadata": {},
   "outputs": [],
   "source": [
    "from collections import deque\n",
    "\n",
    "class Queue:\n",
    "    \n",
    "    def __init__(self):\n",
    "        self.buffer = deque()\n",
    "    \n",
    "    def enqueue(self, val):\n",
    "        self.buffer.appendleft(val)\n",
    "        \n",
    "    def dequeue(self):\n",
    "        return self.buffer.pop()\n",
    "    \n",
    "    def is_empty(self):\n",
    "        return len(self.buffer)==0\n",
    "    \n",
    "    def size(self):\n",
    "        return len(self.buffer)\n",
    "    \n",
    "    def front(self):\n",
    "        return self.buffer[-1]"
   ]
  },
  {
   "cell_type": "code",
   "execution_count": 3,
   "metadata": {},
   "outputs": [],
   "source": [
    "import threading\n",
    "import time"
   ]
  },
  {
   "cell_type": "code",
   "execution_count": 14,
   "metadata": {},
   "outputs": [],
   "source": [
    "orders = ['pizza','samosa','pasta','biryani','burger']\n",
    "orders_queue = Queue()"
   ]
  },
  {
   "cell_type": "code",
   "execution_count": 19,
   "metadata": {},
   "outputs": [],
   "source": [
    "def place_order(orders):\n",
    "    for order in orders:\n",
    "        print(\"Placing order for:\",order)\n",
    "        orders_queue.enqueue(order)\n",
    "        time.sleep(0.5)\n",
    "      \n",
    "\n",
    "def serve_order():\n",
    "    while orders_queue.size()>0:\n",
    "        order = orders_queue.dequeue()\n",
    "        print(\"Now serving:\",order)\n",
    "        time.sleep(2)\n",
    "    "
   ]
  },
  {
   "cell_type": "code",
   "execution_count": 20,
   "metadata": {},
   "outputs": [
    {
     "name": "stdout",
     "output_type": "stream",
     "text": [
      "Placing order for: pizza\n",
      "Placing order for: samosa\n",
      "Now serving: pizza\n",
      "Placing order for: pasta\n",
      "Placing order for: biryani\n",
      "Placing order for: burger\n",
      "Now serving: samosa\n",
      "Now serving: pasta\n",
      "Now serving: biryani\n",
      "Now serving: burger\n",
      "All orders are served!\n"
     ]
    }
   ],
   "source": [
    "t1 = threading.Thread(target=place_order, args=(orders,))\n",
    "t2 = threading.Thread(target=serve_order)\n",
    "\n",
    "t1.start()\n",
    "time.sleep(1)\n",
    "t2.start()\n",
    "\n",
    "t1.join()\n",
    "t2.join()\n",
    "\n",
    "print(\"All orders are served!\")\n"
   ]
  },
  {
   "cell_type": "markdown",
   "metadata": {},
   "source": [
    "2. Write a program to print binary numbers from 1 to 10 using Queue. Use Queue class implemented in main tutorial.\n",
    "Binary sequence should look like,\n",
    "```\n",
    "    1\n",
    "    10\n",
    "    11\n",
    "    100\n",
    "    101\n",
    "    110\n",
    "    111\n",
    "    1000\n",
    "    1001\n",
    "    1010\n",
    "```\n",
    "Hint: Notice a pattern above. After 1 second and third number is 1+0 and 1+1. 4th and 5th number are second number (i.e. 10) + 0 and second number (i.e. 10) + 1.\n",
    "\n",
    "You also need to add front() function in queue class that can return the front element in the queue."
   ]
  },
  {
   "cell_type": "code",
   "execution_count": 9,
   "metadata": {},
   "outputs": [],
   "source": [
    "def produce_binary_numbers(n):\n",
    "    numbers_queue = Queue()\n",
    "    numbers_queue.enqueue(\"1\")\n",
    "\n",
    "    for i in range(n):\n",
    "        front = numbers_queue.front()\n",
    "        print(\"   \", front)\n",
    "        numbers_queue.enqueue(front + \"0\")\n",
    "        numbers_queue.enqueue(front + \"1\")\n",
    "\n",
    "        numbers_queue.dequeue()\n"
   ]
  },
  {
   "cell_type": "code",
   "execution_count": 10,
   "metadata": {},
   "outputs": [
    {
     "name": "stdout",
     "output_type": "stream",
     "text": [
      "    1\n",
      "    10\n",
      "    11\n",
      "    100\n",
      "    101\n",
      "    110\n",
      "    111\n",
      "    1000\n",
      "    1001\n",
      "    1010\n"
     ]
    }
   ],
   "source": [
    "produce_binary_numbers(10)"
   ]
  },
  {
   "cell_type": "code",
   "execution_count": null,
   "metadata": {},
   "outputs": [],
   "source": []
  }
 ],
 "metadata": {
  "kernelspec": {
   "display_name": "base",
   "language": "python",
   "name": "python3"
  },
  "language_info": {
   "codemirror_mode": {
    "name": "ipython",
    "version": 3
   },
   "file_extension": ".py",
   "mimetype": "text/x-python",
   "name": "python",
   "nbconvert_exporter": "python",
   "pygments_lexer": "ipython3",
   "version": "3.12.7"
  }
 },
 "nbformat": 4,
 "nbformat_minor": 2
}
